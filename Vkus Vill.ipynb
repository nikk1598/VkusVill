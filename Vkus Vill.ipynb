{
 "cells": [
  {
   "cell_type": "markdown",
   "id": "a7758eda-f82a-429c-84ae-29d03e241718",
   "metadata": {},
   "source": [
    "# Импорт библиотек"
   ]
  },
  {
   "cell_type": "code",
   "execution_count": 1,
   "id": "1b3338ef-e9f0-4ab0-8df3-7178644321fe",
   "metadata": {},
   "outputs": [],
   "source": [
    "import pandas as pd\n",
    "from sklearn.preprocessing import StandardScaler, MinMaxScaler\n",
    "\n",
    "import warnings\n",
    "from warnings import simplefilter\n",
    "warnings.filterwarnings(\"ignore\")"
   ]
  },
  {
   "cell_type": "markdown",
   "id": "1574aa20-8228-43a1-873c-342a7019c059",
   "metadata": {},
   "source": [
    "# Загрузка данных"
   ]
  },
  {
   "cell_type": "code",
   "execution_count": null,
   "id": "29192b42-457a-48ae-b457-43029c4368b3",
   "metadata": {},
   "outputs": [],
   "source": [
    "# checkUID - id чека\n",
    "# id_tt_cl - id торговой точки\n",
    "# price_retail - базовая цена\n",
    "# quantity - кол-во\n",
    "# basePrice - цена позиции (после применения скидок)\n",
    "# baseSum - сумма для позиции (после применения скидок)\n",
    "# date_ch - дата\n",
    "# time_ch - время\n",
    "# order_type - тип чека\n",
    "\n",
    "febr = pd.read_csv('2_febr.csv', sep=';')\n",
    "march = pd.read_csv('2_march.csv', sep=';')\n",
    "april = pd.read_csv('2_april.csv', sep=';')\n",
    "may = pd.read_csv('2_may.csv', sep=';')\n",
    "june = pd.read_csv('svao_june.csv', sep=';')"
   ]
  },
  {
   "cell_type": "code",
   "execution_count": null,
   "id": "b9d95f59-2c94-4758-8663-722703e22bd9",
   "metadata": {},
   "outputs": [],
   "source": [
    "# id_tt - id торговой точки\n",
    "# adress - адрес\n",
    "# hours - часы работы\n",
    "# shirota - широта\n",
    "# dolgota - долгота\n",
    "# ploshad - площадь магазина\n",
    "# city_tt - город \n",
    "# район - район\n",
    "# shtat - штат\n",
    "# qty_kassa - кол-во касс\n",
    "# qty_kassa_si - кол-во касс самообслуживания\n",
    "# format - формат магазина\n",
    "\n",
    "post = pd.read_csv('2_ost.csv',  sep=';')\n",
    "post['post'] = ost['post'].map(lambda x: x.replace(',', '.'))"
   ]
  },
  {
   "cell_type": "markdown",
   "id": "f540a28e-f241-4ed5-a908-c6e3b90341b2",
   "metadata": {},
   "source": [
    "# Корреляционный анализ"
   ]
  },
  {
   "cell_type": "markdown",
   "id": "c52e6c0d-4689-4d97-b30d-986846b454eb",
   "metadata": {},
   "source": [
    "## 1) Продажи"
   ]
  },
  {
   "cell_type": "markdown",
   "id": "dd7f2dcd-e3c1-4872-92e6-e8c8922aac6f",
   "metadata": {},
   "source": [
    "Найдём корреляции объёмов продаж каждого из продаваемых товаров с выручкой"
   ]
  },
  {
   "cell_type": "code",
   "execution_count": null,
   "id": "aadf4c49-201a-44d8-92d1-0cb65dbdeff5",
   "metadata": {},
   "outputs": [],
   "source": [
    "# Соединим датасеты продаж в один общий датасет\n",
    "months_concat = pd.concat([febr, march, may, april, may, june])\n",
    "months_concat.head()\n",
    "\n",
    "# Сгруппируем строки по столбцам \"id торговой точки\", \"дата\", \"id товара\" и посчитаем для каждой уникальной группы суммарный объём продаж\n",
    "quantity = pd.DataFrame(months_concat.groupby(['id_tt_cl', 'date_ch', 'id_tov_cl'])['Quantity'].sum()).unstack().fillna(0)\n",
    "\n",
    "# Сгруппируем строки по столбцам \"id торговой точки\", \"дата\" и посчитаем для каждой уникальной группы суммарную выручку\n",
    "base_sum = pd.DataFrame(months_concat.groupby(['id_tt_cl', 'date_ch'])['BaseSum'].sum())\n",
    "base_sum.head()\n",
    "\n",
    "# Соединим полученные датасеты по полям \"id торговой точки\", \"дата\"\n",
    "final_df1 = base_sum.merge(quantity, on=['id_tt_cl', 'date_ch'])\n",
    "\n",
    "# Построим матрицу корреляций Спирмана \n",
    "corr = final_df1.corr(method='spearman')\n",
    "\n",
    "# Найдём товары, продажи которых лучше/хуже всего коррелируют с выручкой\n",
    "best_corr1 = pd.DataFrame(corr[corr > 0.6]['BaseSum']).sort_values(by='BaseSum', ascending=False).dropna()\n",
    "worst_corr1 = pd.DataFrame(corr[corr < 0]['BaseSum']).sort_values(by='BaseSum', ascending=False).dropna()"
   ]
  },
  {
   "cell_type": "markdown",
   "id": "714f38ee-9bf4-43bf-b218-7ffe38dab82f",
   "metadata": {},
   "source": [
    "## 2) Привозы"
   ]
  },
  {
   "cell_type": "markdown",
   "id": "f17649f6-7683-4c61-a11a-ae4988bffb0b",
   "metadata": {},
   "source": [
    "Найдём корреляции привозов каждого из товаров с выручкой"
   ]
  },
  {
   "cell_type": "code",
   "execution_count": null,
   "id": "21dec1af-ba30-4548-9125-b5930c009794",
   "metadata": {},
   "outputs": [],
   "source": [
    "# Заменим в датасете поставок полную дату на месяц\n",
    "def set_month(x: str)->str:\n",
    "    if x in pd.date_range(start='2022.03.01', end='2022.03.31'):\n",
    "        return 'martch'\n",
    "    elif x in pd.date_range(start='2022.04.01', end='2022.04.30'):\n",
    "        return 'april'\n",
    "    else:\n",
    "        return 'may'\n",
    "\n",
    "post['date_tt'] = post['date_tt'].map(set_month)\n",
    "\n",
    "# Сгруппируем строки по столбцам \"id торговой точки\", \"дата\", \"id товара\" и посчитаем для каждой уникальной группы суммарный месячный привоз\n",
    "monthly_post = pd.DataFrame(post.groupby(['id_tt', 'date_tt', 'id_tov']).sum()['morning']).unstack().fillna(0)\n",
    "\n",
    "# Сгруппируем строки по столбцам \"id торговой точки\", \"дата\" и посчитаем для каждой уникальной группы суммарную месячную выручку\n",
    "monthly_revenue = pd.DataFrame(post.groupby(['id_tt', 'date_tt']).sum()['morning']).unstack().fillna(0)\n",
    "\n",
    "# Соединим полученные датасеты по полям \"id торговой точки\", \"дата\"\n",
    "final_df2 = monthly_revenue.merge(monthly_post, on=['id_tt', 'date_tt']).fillna(0)\n",
    "\n",
    "# Построим матрицу корреляций Спирмана \n",
    "corr = final_df2.corr(method='spearman')\n",
    "\n",
    "# Найдём товары, привозы которых лучше/хуже всего коррелируют с выручкой\n",
    "best_corr2 = pd.DataFrame(corr[corr > 0.6]['BaseSum']).sort_values(by='BaseSum', ascending=False).dropna()\n",
    "worst_corr2 = pd.DataFrame(corr[corr < 0]['BaseSum']).sort_values(by='BaseSum', ascending=False).dropna()"
   ]
  },
  {
   "cell_type": "markdown",
   "id": "aed240de-83fb-4bb8-a5ae-efc093feeed4",
   "metadata": {},
   "source": [
    "# Формирование кластеров похожих точек"
   ]
  },
  {
   "cell_type": "markdown",
   "id": "b3e13df1-711c-487f-91a8-281b995d2b59",
   "metadata": {},
   "source": [
    "Итак, подход состоит в том, чтобы найти две похожие по определенным критериям торговые точки. Причем такие, чтобы у одной тренд выручки был положительный за определенный период времени, а у другой - отрицательный. Затем нужно сравнить их ассортимент с учетом проведенного выше анализа. В качестве теста изменить(при необходимости) ассортимент точки с отрицательным трендом; провести сравнение с точкой , которая тоже имеет отрицаельный тренд и похожа на две рассмотренных (т.е. все 3 входят в один кластер). Я выбрал три критерия близости, которые считаю довольно показательными"
   ]
  },
  {
   "cell_type": "markdown",
   "id": "4a867bb6-b1d3-4757-9d00-cdcde7ff1cc6",
   "metadata": {},
   "source": [
    "## 1) Суммарная выручка за все доступные месяцы"
   ]
  },
  {
   "cell_type": "markdown",
   "id": "01b0c60e-d535-4ccf-9cae-9d8d993471b4",
   "metadata": {},
   "source": [
    "Будем считать точки похожими, если за 5 месяцев их суммарная выручка получилась примерно одинаковой "
   ]
  },
  {
   "cell_type": "code",
   "execution_count": null,
   "id": "62c14b0d-c339-48b5-92b6-9df5ab071aab",
   "metadata": {},
   "outputs": [],
   "source": [
    "# Найдём для каждой торговой точки среднюю выручку за всё время\n",
    "tt_mean_all_time = pd.DataFrame(months_concat\\\n",
    "                                .groupby('id_tt_cl')['BaseSum'].sum()).sort_values(by='BaseSum')"
   ]
  },
  {
   "cell_type": "markdown",
   "id": "0a9e8e05-21f7-48b5-95d7-19460a67049e",
   "metadata": {},
   "source": [
    "## 2) Доля выручки с онлайн заказов"
   ]
  },
  {
   "cell_type": "markdown",
   "id": "9d799b86-7834-4e1c-86cf-c3dae143d9e3",
   "metadata": {},
   "source": [
    "Будем считать точки похожими, если доля выручки с онлайн продаж от общей суммы примерно совпадает"
   ]
  },
  {
   "cell_type": "code",
   "execution_count": null,
   "id": "7a0dff3f-5890-42b8-9409-26226c503e8c",
   "metadata": {},
   "outputs": [],
   "source": [
    "tt_mean_all_time['offline_check'] = pd.DataFrame(months_concat\\\n",
    "                                                 [months_concat['order_type']=='offline']\\\n",
    "                                                 .groupby('id_tt_cl')['BaseSum']\\\n",
    "                                                 .sum()).sort_values(by='BaseSum')\n",
    "\n",
    "tt_mean_all_time['online_check'] = pd.DataFrame(months_concat\\\n",
    "                                                 [months_concat['order_type']=='online']\\\n",
    "                                                 .groupby('id_tt_cl')['BaseSum']\\\n",
    "                                                 .sum()).sort_values(by='BaseSum')\n",
    "\n",
    "tt_mean_all_time['part_of_online'] = tt_mean_all_time['online_check']/(tt_mean_all_time['offline_check'] + tt_mean_all_time['online_check'])"
   ]
  },
  {
   "cell_type": "markdown",
   "id": "99f3a34a-ae2d-4038-b9f8-6f071e50ce93",
   "metadata": {},
   "source": [
    "## 3) Приоритетные группы товаров"
   ]
  },
  {
   "cell_type": "markdown",
   "id": "81b641be-3f3a-4919-8627-975a77bbe017",
   "metadata": {},
   "source": [
    "Будем считать точки похожими, если совпадает направленность ассортимента - например, если у одной точки наибольшая часть привозов приходится на молочную продукцию, а в другой её вообще не продают, то они никак не могут входить в один кластер"
   ]
  },
  {
   "cell_type": "code",
   "execution_count": null,
   "id": "8b86e9f5-9171-4f31-a642-bcd9e08486df",
   "metadata": {},
   "outputs": [],
   "source": [
    "# Отнормируем столбцы, т.к. объём разных товаров измеряется в разных шкалах\n",
    "scaler = MinMaxScaler()\n",
    "post['post'] = scaler.fit_transform(np.array(ost['post']).reshape(-1, 1))\n",
    "\n",
    "# Надём ранжировки групп товаров для каждой торговой точки \n",
    "groups = pd.DataFrame(ost.groupby(by=['id_tt', 'id_group'])['post'].sum()).sort_values(by=['id_tt', 'post'], ascending=False)"
   ]
  },
  {
   "cell_type": "markdown",
   "id": "6673c29b-803a-462d-b2c3-f68f37e3837a",
   "metadata": {},
   "source": [
    "# Выбор конкретных точек для исследования"
   ]
  },
  {
   "cell_type": "markdown",
   "id": "7b0f22e7-3439-4471-90d2-a94c408cc51e",
   "metadata": {},
   "source": [
    "Теперь нужно выбрать три точки из одного кластера так, чтобы они подошли нам для исследования с точки зрения описанного выше подхода (трендов выручки)"
   ]
  },
  {
   "cell_type": "markdown",
   "id": "ed567162-59de-418f-8ccb-4c9b9d521e17",
   "metadata": {},
   "source": [
    "## 1) Графики изменения выручки по месяцам"
   ]
  },
  {
   "cell_type": "code",
   "execution_count": null,
   "id": "a65f9354-0be5-4d04-977d-d7169154020a",
   "metadata": {},
   "outputs": [],
   "source": [
    "# choosed_tt_id - список с которые являются частью одного из кластеров (нет возможности показать его из-за NDA)\n",
    "for x in choosed_tt_id:\n",
    "    lst = []\n",
    "    lst.append(febr[febr['id_tt_cl'] == x]['BaseSum'].sum())\n",
    "    lst.append(march[march['id_tt_cl'] == x]['BaseSum'].sum())\n",
    "    lst.append(april[april['id_tt_cl'] == x]['BaseSum'].sum())\n",
    "    lst.append(may[may['id_tt_cl'] == x]['BaseSum'].sum())\n",
    "    lst.append(june[june['id_tt_cl'] == x]['BaseSum'].sum())\n",
    "    plt.scatter([1,2,3,4,5], lst);"
   ]
  },
  {
   "cell_type": "markdown",
   "id": "a7d4c111-ded4-4f76-96fa-fd75eb321459",
   "metadata": {},
   "source": [
    "## 2) Графики изменения выручки по дням"
   ]
  },
  {
   "cell_type": "code",
   "execution_count": null,
   "id": "ea759bb8-787e-4657-bc99-eedaf6ce4a9a",
   "metadata": {},
   "outputs": [],
   "source": [
    "for x in choosed_tt_id:\n",
    "    lst = []\n",
    "    lst.extend(febr[febr['id_tt_cl'] == 15123].groupby(by='date_ch')['BaseSum'].sum())\n",
    "    lst.extend(march[march['id_tt_cl'] == 15123].groupby(by='date_ch')['BaseSum'].sum())\n",
    "    lst.extend(april[april['id_tt_cl'] == 15123].groupby(by='date_ch')['BaseSum'].sum())\n",
    "    lst.extend(may[may['id_tt_cl'] == 15123].groupby(by='date_ch')['BaseSum'].sum())\n",
    "    lst.extend(june[june['id_tt_cl'] == 15123].groupby(by='date_ch')['BaseSum'].sum())\n",
    "    plt.plot(range(0, len(lst)), lst);"
   ]
  },
  {
   "cell_type": "markdown",
   "id": "862daa2b-3eec-4745-b820-eddbb89e2626",
   "metadata": {},
   "source": [
    "# Выводы"
   ]
  },
  {
   "cell_type": "markdown",
   "id": "301304e5-751e-4122-b4ba-1ca921808571",
   "metadata": {},
   "source": [
    "На основе полученных графиков было выбрано три точки одного кластера - в одной выручка непрерывно росла в течение длительного периода времени, в двух других - падала. При сравнении хорошей и одной из плохих точек было замечено, что в плохой точке проседают продажи некоторых товаров с очень высокой корреляцией. Таким образом, решение состоит в том, чтобы подтянуть привоз этих товаров, ограничив привоз товаров с низкой корреляцией, но которые лучше продаются уже в плохой точке. В течение месяца сравнивать ситуацию (тренд выручки) этой точки со второй плохой, но для которой не будем делать никаких изменений. Если нововведения окажутся успешными, то можем распространить их на всю сеть"
   ]
  }
 ],
 "metadata": {
  "kernelspec": {
   "display_name": "Python 3 (ipykernel)",
   "language": "python",
   "name": "python3"
  },
  "language_info": {
   "codemirror_mode": {
    "name": "ipython",
    "version": 3
   },
   "file_extension": ".py",
   "mimetype": "text/x-python",
   "name": "python",
   "nbconvert_exporter": "python",
   "pygments_lexer": "ipython3",
   "version": "3.9.7"
  }
 },
 "nbformat": 4,
 "nbformat_minor": 5
}
